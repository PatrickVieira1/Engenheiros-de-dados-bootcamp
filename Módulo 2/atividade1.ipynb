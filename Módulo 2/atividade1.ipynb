{
 "cells": [
  {
   "cell_type": "code",
   "execution_count": 1,
   "metadata": {},
   "outputs": [],
   "source": [
    "import pandas as pd\n",
    "import numpy as np"
   ]
  },
  {
   "cell_type": "code",
   "execution_count": 98,
   "metadata": {},
   "outputs": [],
   "source": [
    "users = pd.read_csv('datasets\\worldwide internet users - users.csv')\n",
    "speed = pd.read_csv('datasets\\worldwide internet speed in 2022  - avg speed.csv')\n",
    "prices = pd.read_csv('datasets\\worldwide internet prices in 2022 - IN 2022.csv')"
   ]
  },
  {
   "cell_type": "code",
   "execution_count": 121,
   "metadata": {},
   "outputs": [
    {
     "data": {
      "text/plain": [
       "144"
      ]
     },
     "execution_count": 121,
     "metadata": {},
     "output_type": "execute_result"
    }
   ],
   "source": [
    "len(speed)"
   ]
  },
  {
   "cell_type": "markdown",
   "metadata": {},
   "source": [
    "Atividades\n",
    "<ol>\n",
    "\n",
    "<li>Criando uma função para converter país em continente, a partir do arquivo de \n",
    "usuários: </li>\n",
    "<li>Abra o arquivo de usuários usando pandas;</li>\n",
    "<li>Crie um dicionário chamado “mapeamento_continente”;</li>\n",
    " \n",
    " </ol>"
   ]
  },
  {
   "cell_type": "code",
   "execution_count": 75,
   "metadata": {},
   "outputs": [],
   "source": [
    "mapeamento_continente = dict(users[[\"Country or area\",\"Region\"]].values)"
   ]
  },
  {
   "cell_type": "markdown",
   "metadata": {},
   "source": [
    "1.3. Crie uma função \"mapear\"\n",
    "O método recebe um pandas DataFrame e o nome de duas colunas desse \n",
    "dataframe (Uma representa o país, outro o continente). Ele percorre duas colunas \n",
    "em conjunto, inserindo 'mapeamento_continente' uma chave para cada país, com \n",
    "valor sendo o continente;\n"
   ]
  },
  {
   "cell_type": "code",
   "execution_count": 14,
   "metadata": {},
   "outputs": [],
   "source": [
    "def mapear(dataframe, pais, continente):\n",
    "    mapeardf = pd.read_csv(dataframe)\n",
    "    mapeamento_continente = dict(users[[pais,continente]].values)"
   ]
  },
  {
   "cell_type": "markdown",
   "metadata": {},
   "source": [
    "1.4. Crie uma função 'retorna_continente': \n",
    "<li>Que retorna o continente a partir do nome do país, recebido como um \n",
    "parâmetro;</li>\n",
    "<li>Que use o dicionário 'mapeamento_continente';</li>\n",
    "<li>Que use o bloco try/except para lidar com países que não existam dentro \n",
    "do dicionário de mapeamento. Nesses casos, o método deve retornar \n",
    "None e printar a mensagem \"Não existe esse país em nossa base\"</li>"
   ]
  },
  {
   "cell_type": "code",
   "execution_count": 15,
   "metadata": {},
   "outputs": [],
   "source": [
    "def retorna_continente(pais):\n",
    "    try:\n",
    "        return mapeamento_continente[pais]\n",
    "    except:\n",
    "        print('Não existe esse país em nossa base')\n",
    "        return None"
   ]
  },
  {
   "cell_type": "markdown",
   "metadata": {},
   "source": [
    "<ol>\n",
    "<li>Adicionando a informação de continente na tabela de velocidades, a partir do \n",
    "mapeamento do arquivo de usuários;</li>\n",
    "<li>Arquivo de velocidades: 'worldwide internet speed in 2022 - avg speed.csv'.\n",
    "<li>Abra o arquivo de velocidades usando pandas;</li>\n",
    "<li>Adicione uma nova coluna 'Continente' ao DataFrame\n",
    "Use a função 'mapa_pais_Continente'.</li>\n",
    "</ol>"
   ]
  },
  {
   "cell_type": "code",
   "execution_count": 99,
   "metadata": {},
   "outputs": [
    {
     "name": "stdout",
     "output_type": "stream",
     "text": [
      "Não existe esse país em nossa base\n",
      "Não existe esse país em nossa base\n",
      "Não existe esse país em nossa base\n",
      "Não existe esse país em nossa base\n",
      "Não existe esse país em nossa base\n",
      "Não existe esse país em nossa base\n",
      "Não existe esse país em nossa base\n"
     ]
    },
    {
     "data": {
      "text/html": [
       "<div>\n",
       "<style scoped>\n",
       "    .dataframe tbody tr th:only-of-type {\n",
       "        vertical-align: middle;\n",
       "    }\n",
       "\n",
       "    .dataframe tbody tr th {\n",
       "        vertical-align: top;\n",
       "    }\n",
       "\n",
       "    .dataframe thead th {\n",
       "        text-align: right;\n",
       "    }\n",
       "</style>\n",
       "<table border=\"1\" class=\"dataframe\">\n",
       "  <thead>\n",
       "    <tr style=\"text-align: right;\">\n",
       "      <th></th>\n",
       "      <th>Country</th>\n",
       "      <th>Avg \\n(Mbit/s)Ookla</th>\n",
       "      <th>Continente</th>\n",
       "    </tr>\n",
       "  </thead>\n",
       "  <tbody>\n",
       "    <tr>\n",
       "      <th>0</th>\n",
       "      <td>Canada</td>\n",
       "      <td>75.18</td>\n",
       "      <td>Americas</td>\n",
       "    </tr>\n",
       "    <tr>\n",
       "      <th>1</th>\n",
       "      <td>South Korea</td>\n",
       "      <td>117.95</td>\n",
       "      <td>Asia</td>\n",
       "    </tr>\n",
       "    <tr>\n",
       "      <th>2</th>\n",
       "      <td>Netherlands</td>\n",
       "      <td>108.33</td>\n",
       "      <td>Europe</td>\n",
       "    </tr>\n",
       "    <tr>\n",
       "      <th>3</th>\n",
       "      <td>Japan</td>\n",
       "      <td>44.05</td>\n",
       "      <td>Asia</td>\n",
       "    </tr>\n",
       "    <tr>\n",
       "      <th>4</th>\n",
       "      <td>Norway</td>\n",
       "      <td>134.73</td>\n",
       "      <td>Europe</td>\n",
       "    </tr>\n",
       "  </tbody>\n",
       "</table>\n",
       "</div>"
      ],
      "text/plain": [
       "       Country  Avg \\n(Mbit/s)Ookla Continente\n",
       "0       Canada                75.18   Americas\n",
       "1  South Korea               117.95       Asia\n",
       "2  Netherlands               108.33     Europe\n",
       "3        Japan                44.05       Asia\n",
       "4       Norway               134.73     Europe"
      ]
     },
     "execution_count": 99,
     "metadata": {},
     "output_type": "execute_result"
    }
   ],
   "source": [
    "speed['Continente'] = speed['Country'].apply(retorna_continente)\n",
    "\n",
    "speed.head()"
   ]
  },
  {
   "cell_type": "markdown",
   "metadata": {},
   "source": [
    "<ol>\n",
    "<li>Trabalhando com os dados de usuários de Internet;</li>\n",
    "<li>Voltando ao arquivo de Usuários: 'worldwide internet users - users.csv'.</li>\n",
    "<li>Abra o arquivo de usuários de internet novamente</li>\n",
    "<li>Crie novas colunas do tipo 'int' para as colunas 'Population' e 'Internet users';</li>\n",
    "    <ol>\n",
    "    Dicas:\n",
    "    <li>Existem valores faltantes na base, sendo necessário filtrar antes de fazer a \n",
    "    criação das novas colunas.</li> \n",
    "    </ol>\n",
    "</ol>"
   ]
  },
  {
   "cell_type": "code",
   "execution_count": 129,
   "metadata": {},
   "outputs": [
    {
     "data": {
      "text/html": [
       "<div>\n",
       "<style scoped>\n",
       "    .dataframe tbody tr th:only-of-type {\n",
       "        vertical-align: middle;\n",
       "    }\n",
       "\n",
       "    .dataframe tbody tr th {\n",
       "        vertical-align: top;\n",
       "    }\n",
       "\n",
       "    .dataframe thead th {\n",
       "        text-align: right;\n",
       "    }\n",
       "</style>\n",
       "<table border=\"1\" class=\"dataframe\">\n",
       "  <thead>\n",
       "    <tr style=\"text-align: right;\">\n",
       "      <th></th>\n",
       "      <th>Country or area</th>\n",
       "      <th>Subregion</th>\n",
       "      <th>Region</th>\n",
       "      <th>Internet users</th>\n",
       "      <th>Population</th>\n",
       "      <th>Nova Internet users</th>\n",
       "    </tr>\n",
       "  </thead>\n",
       "  <tbody>\n",
       "    <tr>\n",
       "      <th>0</th>\n",
       "      <td>China</td>\n",
       "      <td>Eastern Asia</td>\n",
       "      <td>Asia</td>\n",
       "      <td>1,010,740,000</td>\n",
       "      <td>1,427,647,786</td>\n",
       "      <td>1010740000</td>\n",
       "    </tr>\n",
       "    <tr>\n",
       "      <th>1</th>\n",
       "      <td>India</td>\n",
       "      <td>Southern Asia</td>\n",
       "      <td>Asia</td>\n",
       "      <td>833,710,000</td>\n",
       "      <td>1,352,642,280</td>\n",
       "      <td>833710000</td>\n",
       "    </tr>\n",
       "    <tr>\n",
       "      <th>2</th>\n",
       "      <td>United States</td>\n",
       "      <td>Northern America</td>\n",
       "      <td>Americas</td>\n",
       "      <td>312,320,000</td>\n",
       "      <td>327,096,265</td>\n",
       "      <td>312320000</td>\n",
       "    </tr>\n",
       "    <tr>\n",
       "      <th>3</th>\n",
       "      <td>Indonesia</td>\n",
       "      <td>South-eastern Asia</td>\n",
       "      <td>Asia</td>\n",
       "      <td>196,000,000</td>\n",
       "      <td>267,670,543</td>\n",
       "      <td>196000000</td>\n",
       "    </tr>\n",
       "    <tr>\n",
       "      <th>4</th>\n",
       "      <td>Brazil</td>\n",
       "      <td>South America</td>\n",
       "      <td>Americas</td>\n",
       "      <td>160,010,801</td>\n",
       "      <td>209,469,323</td>\n",
       "      <td>160010801</td>\n",
       "    </tr>\n",
       "  </tbody>\n",
       "</table>\n",
       "</div>"
      ],
      "text/plain": [
       "  Country or area           Subregion    Region Internet users     Population  \\\n",
       "0           China        Eastern Asia      Asia  1,010,740,000  1,427,647,786   \n",
       "1           India       Southern Asia      Asia    833,710,000  1,352,642,280   \n",
       "2   United States    Northern America  Americas    312,320,000    327,096,265   \n",
       "3       Indonesia  South-eastern Asia      Asia    196,000,000    267,670,543   \n",
       "4          Brazil       South America  Americas    160,010,801    209,469,323   \n",
       "\n",
       "   Nova Internet users  \n",
       "0           1010740000  \n",
       "1            833710000  \n",
       "2            312320000  \n",
       "3            196000000  \n",
       "4            160010801  "
      ]
     },
     "execution_count": 129,
     "metadata": {},
     "output_type": "execute_result"
    }
   ],
   "source": [
    "users = users.dropna()\n",
    "\n",
    "users.head()"
   ]
  },
  {
   "cell_type": "code",
   "execution_count": 130,
   "metadata": {},
   "outputs": [
    {
     "name": "stderr",
     "output_type": "stream",
     "text": [
      "C:\\Users\\Patrick\\AppData\\Local\\Temp\\ipykernel_15604\\927972281.py:1: SettingWithCopyWarning: \n",
      "A value is trying to be set on a copy of a slice from a DataFrame.\n",
      "Try using .loc[row_indexer,col_indexer] = value instead\n",
      "\n",
      "See the caveats in the documentation: https://pandas.pydata.org/pandas-docs/stable/user_guide/indexing.html#returning-a-view-versus-a-copy\n",
      "  users['Nova Internet users'] = users['Internet users'].str.replace(',','').astype(int)\n",
      "C:\\Users\\Patrick\\AppData\\Local\\Temp\\ipykernel_15604\\927972281.py:2: SettingWithCopyWarning: \n",
      "A value is trying to be set on a copy of a slice from a DataFrame.\n",
      "Try using .loc[row_indexer,col_indexer] = value instead\n",
      "\n",
      "See the caveats in the documentation: https://pandas.pydata.org/pandas-docs/stable/user_guide/indexing.html#returning-a-view-versus-a-copy\n",
      "  users['Nova Population'] = users['Population'].str.replace(',','').astype(int)\n"
     ]
    },
    {
     "data": {
      "text/html": [
       "<div>\n",
       "<style scoped>\n",
       "    .dataframe tbody tr th:only-of-type {\n",
       "        vertical-align: middle;\n",
       "    }\n",
       "\n",
       "    .dataframe tbody tr th {\n",
       "        vertical-align: top;\n",
       "    }\n",
       "\n",
       "    .dataframe thead th {\n",
       "        text-align: right;\n",
       "    }\n",
       "</style>\n",
       "<table border=\"1\" class=\"dataframe\">\n",
       "  <thead>\n",
       "    <tr style=\"text-align: right;\">\n",
       "      <th></th>\n",
       "      <th>Country or area</th>\n",
       "      <th>Subregion</th>\n",
       "      <th>Region</th>\n",
       "      <th>Internet users</th>\n",
       "      <th>Population</th>\n",
       "      <th>Nova Internet users</th>\n",
       "      <th>Nova Population</th>\n",
       "    </tr>\n",
       "  </thead>\n",
       "  <tbody>\n",
       "    <tr>\n",
       "      <th>0</th>\n",
       "      <td>China</td>\n",
       "      <td>Eastern Asia</td>\n",
       "      <td>Asia</td>\n",
       "      <td>1,010,740,000</td>\n",
       "      <td>1,427,647,786</td>\n",
       "      <td>1010740000</td>\n",
       "      <td>1427647786</td>\n",
       "    </tr>\n",
       "    <tr>\n",
       "      <th>1</th>\n",
       "      <td>India</td>\n",
       "      <td>Southern Asia</td>\n",
       "      <td>Asia</td>\n",
       "      <td>833,710,000</td>\n",
       "      <td>1,352,642,280</td>\n",
       "      <td>833710000</td>\n",
       "      <td>1352642280</td>\n",
       "    </tr>\n",
       "    <tr>\n",
       "      <th>2</th>\n",
       "      <td>United States</td>\n",
       "      <td>Northern America</td>\n",
       "      <td>Americas</td>\n",
       "      <td>312,320,000</td>\n",
       "      <td>327,096,265</td>\n",
       "      <td>312320000</td>\n",
       "      <td>327096265</td>\n",
       "    </tr>\n",
       "    <tr>\n",
       "      <th>3</th>\n",
       "      <td>Indonesia</td>\n",
       "      <td>South-eastern Asia</td>\n",
       "      <td>Asia</td>\n",
       "      <td>196,000,000</td>\n",
       "      <td>267,670,543</td>\n",
       "      <td>196000000</td>\n",
       "      <td>267670543</td>\n",
       "    </tr>\n",
       "    <tr>\n",
       "      <th>4</th>\n",
       "      <td>Brazil</td>\n",
       "      <td>South America</td>\n",
       "      <td>Americas</td>\n",
       "      <td>160,010,801</td>\n",
       "      <td>209,469,323</td>\n",
       "      <td>160010801</td>\n",
       "      <td>209469323</td>\n",
       "    </tr>\n",
       "  </tbody>\n",
       "</table>\n",
       "</div>"
      ],
      "text/plain": [
       "  Country or area           Subregion    Region Internet users     Population  \\\n",
       "0           China        Eastern Asia      Asia  1,010,740,000  1,427,647,786   \n",
       "1           India       Southern Asia      Asia    833,710,000  1,352,642,280   \n",
       "2   United States    Northern America  Americas    312,320,000    327,096,265   \n",
       "3       Indonesia  South-eastern Asia      Asia    196,000,000    267,670,543   \n",
       "4          Brazil       South America  Americas    160,010,801    209,469,323   \n",
       "\n",
       "   Nova Internet users  Nova Population  \n",
       "0           1010740000       1427647786  \n",
       "1            833710000       1352642280  \n",
       "2            312320000        327096265  \n",
       "3            196000000        267670543  \n",
       "4            160010801        209469323  "
      ]
     },
     "execution_count": 130,
     "metadata": {},
     "output_type": "execute_result"
    }
   ],
   "source": [
    "users['Nova Internet users'] = users['Internet users'].str.replace(',','').astype(int)\n",
    "users['Nova Population'] = users['Population'].str.replace(',','').astype(int)\n",
    "users.head()"
   ]
  },
  {
   "cell_type": "code",
   "execution_count": 136,
   "metadata": {},
   "outputs": [
    {
     "name": "stderr",
     "output_type": "stream",
     "text": [
      "C:\\Users\\Patrick\\AppData\\Local\\Temp\\ipykernel_15604\\2233878122.py:1: SettingWithCopyWarning: \n",
      "A value is trying to be set on a copy of a slice from a DataFrame.\n",
      "Try using .loc[row_indexer,col_indexer] = value instead\n",
      "\n",
      "See the caveats in the documentation: https://pandas.pydata.org/pandas-docs/stable/user_guide/indexing.html#returning-a-view-versus-a-copy\n",
      "  users['Percentage'] = round(users['Nova Internet users'] / users['Nova Population'] * 100,2).astype(str) + '%'\n"
     ]
    },
    {
     "data": {
      "text/html": [
       "<div>\n",
       "<style scoped>\n",
       "    .dataframe tbody tr th:only-of-type {\n",
       "        vertical-align: middle;\n",
       "    }\n",
       "\n",
       "    .dataframe tbody tr th {\n",
       "        vertical-align: top;\n",
       "    }\n",
       "\n",
       "    .dataframe thead th {\n",
       "        text-align: right;\n",
       "    }\n",
       "</style>\n",
       "<table border=\"1\" class=\"dataframe\">\n",
       "  <thead>\n",
       "    <tr style=\"text-align: right;\">\n",
       "      <th></th>\n",
       "      <th>Country or area</th>\n",
       "      <th>Subregion</th>\n",
       "      <th>Region</th>\n",
       "      <th>Internet users</th>\n",
       "      <th>Population</th>\n",
       "      <th>Nova Internet users</th>\n",
       "      <th>Nova Population</th>\n",
       "      <th>Percentage</th>\n",
       "    </tr>\n",
       "  </thead>\n",
       "  <tbody>\n",
       "    <tr>\n",
       "      <th>0</th>\n",
       "      <td>China</td>\n",
       "      <td>Eastern Asia</td>\n",
       "      <td>Asia</td>\n",
       "      <td>1,010,740,000</td>\n",
       "      <td>1,427,647,786</td>\n",
       "      <td>1010740000</td>\n",
       "      <td>1427647786</td>\n",
       "      <td>70.8%</td>\n",
       "    </tr>\n",
       "    <tr>\n",
       "      <th>1</th>\n",
       "      <td>India</td>\n",
       "      <td>Southern Asia</td>\n",
       "      <td>Asia</td>\n",
       "      <td>833,710,000</td>\n",
       "      <td>1,352,642,280</td>\n",
       "      <td>833710000</td>\n",
       "      <td>1352642280</td>\n",
       "      <td>61.64%</td>\n",
       "    </tr>\n",
       "    <tr>\n",
       "      <th>2</th>\n",
       "      <td>United States</td>\n",
       "      <td>Northern America</td>\n",
       "      <td>Americas</td>\n",
       "      <td>312,320,000</td>\n",
       "      <td>327,096,265</td>\n",
       "      <td>312320000</td>\n",
       "      <td>327096265</td>\n",
       "      <td>95.48%</td>\n",
       "    </tr>\n",
       "    <tr>\n",
       "      <th>3</th>\n",
       "      <td>Indonesia</td>\n",
       "      <td>South-eastern Asia</td>\n",
       "      <td>Asia</td>\n",
       "      <td>196,000,000</td>\n",
       "      <td>267,670,543</td>\n",
       "      <td>196000000</td>\n",
       "      <td>267670543</td>\n",
       "      <td>73.22%</td>\n",
       "    </tr>\n",
       "    <tr>\n",
       "      <th>4</th>\n",
       "      <td>Brazil</td>\n",
       "      <td>South America</td>\n",
       "      <td>Americas</td>\n",
       "      <td>160,010,801</td>\n",
       "      <td>209,469,323</td>\n",
       "      <td>160010801</td>\n",
       "      <td>209469323</td>\n",
       "      <td>76.39%</td>\n",
       "    </tr>\n",
       "  </tbody>\n",
       "</table>\n",
       "</div>"
      ],
      "text/plain": [
       "  Country or area           Subregion    Region Internet users     Population  \\\n",
       "0           China        Eastern Asia      Asia  1,010,740,000  1,427,647,786   \n",
       "1           India       Southern Asia      Asia    833,710,000  1,352,642,280   \n",
       "2   United States    Northern America  Americas    312,320,000    327,096,265   \n",
       "3       Indonesia  South-eastern Asia      Asia    196,000,000    267,670,543   \n",
       "4          Brazil       South America  Americas    160,010,801    209,469,323   \n",
       "\n",
       "   Nova Internet users  Nova Population Percentage  \n",
       "0           1010740000       1427647786      70.8%  \n",
       "1            833710000       1352642280     61.64%  \n",
       "2            312320000        327096265     95.48%  \n",
       "3            196000000        267670543     73.22%  \n",
       "4            160010801        209469323     76.39%  "
      ]
     },
     "execution_count": 136,
     "metadata": {},
     "output_type": "execute_result"
    }
   ],
   "source": [
    "users['Percentage'] = round(users['Nova Internet users'] / users['Nova Population'] * 100,2).astype(str) + '%'\n",
    "\n",
    "users.head()"
   ]
  },
  {
   "cell_type": "markdown",
   "metadata": {},
   "source": [
    "Abaixo estão os códigos utilizados para a resolução do teste"
   ]
  },
  {
   "cell_type": "code",
   "execution_count": 76,
   "metadata": {},
   "outputs": [
    {
     "data": {
      "text/plain": [
       "'Americas'"
      ]
     },
     "execution_count": 76,
     "metadata": {},
     "output_type": "execute_result"
    }
   ],
   "source": [
    "retorna_continente('Brazil')"
   ]
  },
  {
   "cell_type": "code",
   "execution_count": 77,
   "metadata": {},
   "outputs": [
    {
     "data": {
      "text/plain": [
       "'Asia'"
      ]
     },
     "execution_count": 77,
     "metadata": {},
     "output_type": "execute_result"
    }
   ],
   "source": [
    "retorna_continente('Israel')"
   ]
  },
  {
   "cell_type": "code",
   "execution_count": 78,
   "metadata": {},
   "outputs": [
    {
     "data": {
      "text/plain": [
       "'Asia'"
      ]
     },
     "execution_count": 78,
     "metadata": {},
     "output_type": "execute_result"
    }
   ],
   "source": [
    "retorna_continente('Kyrgyzstan')"
   ]
  },
  {
   "cell_type": "code",
   "execution_count": 79,
   "metadata": {},
   "outputs": [
    {
     "data": {
      "text/plain": [
       "'Oceania'"
      ]
     },
     "execution_count": 79,
     "metadata": {},
     "output_type": "execute_result"
    }
   ],
   "source": [
    "retorna_continente('Australia')"
   ]
  },
  {
   "cell_type": "code",
   "execution_count": 120,
   "metadata": {},
   "outputs": [
    {
     "name": "stdout",
     "output_type": "stream",
     "text": [
      "7\n"
     ]
    },
    {
     "data": {
      "text/plain": [
       "137"
      ]
     },
     "execution_count": 120,
     "metadata": {},
     "output_type": "execute_result"
    }
   ],
   "source": [
    "print(len(speed[speed['Continente'].isna()]))\n",
    "len(speed[speed['Continente'].notnull()])"
   ]
  },
  {
   "cell_type": "code",
   "execution_count": 122,
   "metadata": {},
   "outputs": [
    {
     "data": {
      "text/plain": [
       "36.36727272727273"
      ]
     },
     "execution_count": 122,
     "metadata": {},
     "output_type": "execute_result"
    }
   ],
   "source": [
    "speed['Avg \\n(Mbit/s)Ookla'].mean()"
   ]
  },
  {
   "cell_type": "code",
   "execution_count": 124,
   "metadata": {},
   "outputs": [
    {
     "data": {
      "text/plain": [
       "Continente\n",
       "Africa      17.95\n",
       "Americas    20.67\n",
       "Asia        24.48\n",
       "Europe      49.66\n",
       "Oceania     49.49\n",
       "Name: Avg \\n(Mbit/s)Ookla, dtype: float64"
      ]
     },
     "execution_count": 124,
     "metadata": {},
     "output_type": "execute_result"
    }
   ],
   "source": [
    "speed.groupby('Continente')['Avg \\n(Mbit/s)Ookla'].median()"
   ]
  },
  {
   "cell_type": "code",
   "execution_count": 126,
   "metadata": {},
   "outputs": [
    {
     "data": {
      "text/plain": [
       "<bound method DataFrame.info of                                   Country or area           Subregion  \\\n",
       "0                                           China        Eastern Asia   \n",
       "1                                           India       Southern Asia   \n",
       "2                                   United States    Northern America   \n",
       "3                                       Indonesia  South-eastern Asia   \n",
       "4                                          Brazil       South America   \n",
       "..                                            ...                 ...   \n",
       "209  Saint Helena, Ascension and Tristan da Cunha      Western Africa   \n",
       "210                              Falkland Islands       South America   \n",
       "211                                    Montserrat           Caribbean   \n",
       "212                             Wallis and Futuna           Polynesia   \n",
       "213                                          Niue           Polynesia   \n",
       "\n",
       "       Region Internet users     Population  \n",
       "0        Asia  1,010,740,000  1,427,647,786  \n",
       "1        Asia    833,710,000  1,352,642,280  \n",
       "2    Americas    312,320,000    327,096,265  \n",
       "3        Asia    196,000,000    267,670,543  \n",
       "4    Americas    160,010,801    209,469,323  \n",
       "..        ...            ...            ...  \n",
       "209    Africa          2,906          6,035  \n",
       "210  Americas          2,881          3,234  \n",
       "211  Americas          2,833          4,993  \n",
       "212   Oceania          1,383         11,661  \n",
       "213   Oceania          1,034          1,620  \n",
       "\n",
       "[214 rows x 5 columns]>"
      ]
     },
     "execution_count": 126,
     "metadata": {},
     "output_type": "execute_result"
    }
   ],
   "source": [
    "users.info"
   ]
  },
  {
   "cell_type": "code",
   "execution_count": 131,
   "metadata": {},
   "outputs": [
    {
     "data": {
      "text/plain": [
       "Country or area        object\n",
       "Subregion              object\n",
       "Region                 object\n",
       "Internet users         object\n",
       "Population             object\n",
       "Nova Internet users     int32\n",
       "Nova Population         int32\n",
       "dtype: object"
      ]
     },
     "execution_count": 131,
     "metadata": {},
     "output_type": "execute_result"
    }
   ],
   "source": [
    "users.dtypes"
   ]
  },
  {
   "cell_type": "code",
   "execution_count": 142,
   "metadata": {},
   "outputs": [
    {
     "data": {
      "text/html": [
       "<div>\n",
       "<style scoped>\n",
       "    .dataframe tbody tr th:only-of-type {\n",
       "        vertical-align: middle;\n",
       "    }\n",
       "\n",
       "    .dataframe tbody tr th {\n",
       "        vertical-align: top;\n",
       "    }\n",
       "\n",
       "    .dataframe thead th {\n",
       "        text-align: right;\n",
       "    }\n",
       "</style>\n",
       "<table border=\"1\" class=\"dataframe\">\n",
       "  <thead>\n",
       "    <tr style=\"text-align: right;\">\n",
       "      <th></th>\n",
       "      <th>Country or area</th>\n",
       "      <th>Subregion</th>\n",
       "      <th>Region</th>\n",
       "      <th>Internet users</th>\n",
       "      <th>Population</th>\n",
       "      <th>Nova Internet users</th>\n",
       "      <th>Nova Population</th>\n",
       "      <th>Percentage</th>\n",
       "    </tr>\n",
       "  </thead>\n",
       "  <tbody>\n",
       "    <tr>\n",
       "      <th>213</th>\n",
       "      <td>Niue</td>\n",
       "      <td>Polynesia</td>\n",
       "      <td>Oceania</td>\n",
       "      <td>1,034</td>\n",
       "      <td>1,620</td>\n",
       "      <td>1034</td>\n",
       "      <td>1620</td>\n",
       "      <td>63.83%</td>\n",
       "    </tr>\n",
       "    <tr>\n",
       "      <th>212</th>\n",
       "      <td>Wallis and Futuna</td>\n",
       "      <td>Polynesia</td>\n",
       "      <td>Oceania</td>\n",
       "      <td>1,383</td>\n",
       "      <td>11,661</td>\n",
       "      <td>1383</td>\n",
       "      <td>11661</td>\n",
       "      <td>11.86%</td>\n",
       "    </tr>\n",
       "    <tr>\n",
       "      <th>211</th>\n",
       "      <td>Montserrat</td>\n",
       "      <td>Caribbean</td>\n",
       "      <td>Americas</td>\n",
       "      <td>2,833</td>\n",
       "      <td>4,993</td>\n",
       "      <td>2833</td>\n",
       "      <td>4993</td>\n",
       "      <td>56.74%</td>\n",
       "    </tr>\n",
       "    <tr>\n",
       "      <th>210</th>\n",
       "      <td>Falkland Islands</td>\n",
       "      <td>South America</td>\n",
       "      <td>Americas</td>\n",
       "      <td>2,881</td>\n",
       "      <td>3,234</td>\n",
       "      <td>2881</td>\n",
       "      <td>3234</td>\n",
       "      <td>89.08%</td>\n",
       "    </tr>\n",
       "    <tr>\n",
       "      <th>209</th>\n",
       "      <td>Saint Helena, Ascension and Tristan da Cunha</td>\n",
       "      <td>Western Africa</td>\n",
       "      <td>Africa</td>\n",
       "      <td>2,906</td>\n",
       "      <td>6,035</td>\n",
       "      <td>2906</td>\n",
       "      <td>6035</td>\n",
       "      <td>48.15%</td>\n",
       "    </tr>\n",
       "  </tbody>\n",
       "</table>\n",
       "</div>"
      ],
      "text/plain": [
       "                                  Country or area       Subregion    Region  \\\n",
       "213                                          Niue       Polynesia   Oceania   \n",
       "212                             Wallis and Futuna       Polynesia   Oceania   \n",
       "211                                    Montserrat       Caribbean  Americas   \n",
       "210                              Falkland Islands   South America  Americas   \n",
       "209  Saint Helena, Ascension and Tristan da Cunha  Western Africa    Africa   \n",
       "\n",
       "    Internet users Population  Nova Internet users  Nova Population Percentage  \n",
       "213          1,034      1,620                 1034             1620     63.83%  \n",
       "212          1,383     11,661                 1383            11661     11.86%  \n",
       "211          2,833      4,993                 2833             4993     56.74%  \n",
       "210          2,881      3,234                 2881             3234     89.08%  \n",
       "209          2,906      6,035                 2906             6035     48.15%  "
      ]
     },
     "execution_count": 142,
     "metadata": {},
     "output_type": "execute_result"
    }
   ],
   "source": [
    "users = users.sort_values(by='Nova Internet users', ascending=True)\n",
    "\n",
    "users.head()"
   ]
  },
  {
   "cell_type": "code",
   "execution_count": 148,
   "metadata": {},
   "outputs": [
    {
     "data": {
      "text/html": [
       "<div>\n",
       "<style scoped>\n",
       "    .dataframe tbody tr th:only-of-type {\n",
       "        vertical-align: middle;\n",
       "    }\n",
       "\n",
       "    .dataframe tbody tr th {\n",
       "        vertical-align: top;\n",
       "    }\n",
       "\n",
       "    .dataframe thead th {\n",
       "        text-align: right;\n",
       "    }\n",
       "</style>\n",
       "<table border=\"1\" class=\"dataframe\">\n",
       "  <thead>\n",
       "    <tr style=\"text-align: right;\">\n",
       "      <th></th>\n",
       "      <th>Country or area</th>\n",
       "      <th>Subregion</th>\n",
       "      <th>Region</th>\n",
       "      <th>Internet users</th>\n",
       "      <th>Population</th>\n",
       "      <th>Nova Internet users</th>\n",
       "      <th>Nova Population</th>\n",
       "      <th>Percentage</th>\n",
       "      <th>Proporção</th>\n",
       "    </tr>\n",
       "  </thead>\n",
       "  <tbody>\n",
       "    <tr>\n",
       "      <th>213</th>\n",
       "      <td>Niue</td>\n",
       "      <td>Polynesia</td>\n",
       "      <td>Oceania</td>\n",
       "      <td>1,034</td>\n",
       "      <td>1,620</td>\n",
       "      <td>1034</td>\n",
       "      <td>1620</td>\n",
       "      <td>63.83%</td>\n",
       "      <td>63.83</td>\n",
       "    </tr>\n",
       "    <tr>\n",
       "      <th>212</th>\n",
       "      <td>Wallis and Futuna</td>\n",
       "      <td>Polynesia</td>\n",
       "      <td>Oceania</td>\n",
       "      <td>1,383</td>\n",
       "      <td>11,661</td>\n",
       "      <td>1383</td>\n",
       "      <td>11661</td>\n",
       "      <td>11.86%</td>\n",
       "      <td>11.86</td>\n",
       "    </tr>\n",
       "    <tr>\n",
       "      <th>211</th>\n",
       "      <td>Montserrat</td>\n",
       "      <td>Caribbean</td>\n",
       "      <td>Americas</td>\n",
       "      <td>2,833</td>\n",
       "      <td>4,993</td>\n",
       "      <td>2833</td>\n",
       "      <td>4993</td>\n",
       "      <td>56.74%</td>\n",
       "      <td>56.74</td>\n",
       "    </tr>\n",
       "    <tr>\n",
       "      <th>210</th>\n",
       "      <td>Falkland Islands</td>\n",
       "      <td>South America</td>\n",
       "      <td>Americas</td>\n",
       "      <td>2,881</td>\n",
       "      <td>3,234</td>\n",
       "      <td>2881</td>\n",
       "      <td>3234</td>\n",
       "      <td>89.08%</td>\n",
       "      <td>89.08</td>\n",
       "    </tr>\n",
       "    <tr>\n",
       "      <th>209</th>\n",
       "      <td>Saint Helena, Ascension and Tristan da Cunha</td>\n",
       "      <td>Western Africa</td>\n",
       "      <td>Africa</td>\n",
       "      <td>2,906</td>\n",
       "      <td>6,035</td>\n",
       "      <td>2906</td>\n",
       "      <td>6035</td>\n",
       "      <td>48.15%</td>\n",
       "      <td>48.15</td>\n",
       "    </tr>\n",
       "  </tbody>\n",
       "</table>\n",
       "</div>"
      ],
      "text/plain": [
       "                                  Country or area       Subregion    Region  \\\n",
       "213                                          Niue       Polynesia   Oceania   \n",
       "212                             Wallis and Futuna       Polynesia   Oceania   \n",
       "211                                    Montserrat       Caribbean  Americas   \n",
       "210                              Falkland Islands   South America  Americas   \n",
       "209  Saint Helena, Ascension and Tristan da Cunha  Western Africa    Africa   \n",
       "\n",
       "    Internet users Population  Nova Internet users  Nova Population  \\\n",
       "213          1,034      1,620                 1034             1620   \n",
       "212          1,383     11,661                 1383            11661   \n",
       "211          2,833      4,993                 2833             4993   \n",
       "210          2,881      3,234                 2881             3234   \n",
       "209          2,906      6,035                 2906             6035   \n",
       "\n",
       "    Percentage  Proporção  \n",
       "213     63.83%      63.83  \n",
       "212     11.86%      11.86  \n",
       "211     56.74%      56.74  \n",
       "210     89.08%      89.08  \n",
       "209     48.15%      48.15  "
      ]
     },
     "execution_count": 148,
     "metadata": {},
     "output_type": "execute_result"
    }
   ],
   "source": [
    "users['Proporção'] = round(users['Nova Internet users'] / users['Nova Population'] * 100,2)\n",
    "\n",
    "users.head()"
   ]
  },
  {
   "cell_type": "code",
   "execution_count": 151,
   "metadata": {},
   "outputs": [
    {
     "data": {
      "text/plain": [
       "Region\n",
       "Africa      19.473284\n",
       "Americas    19.883199\n",
       "Asia        25.150710\n",
       "Europe      10.747543\n",
       "Oceania     27.296783\n",
       "Name: Proporção, dtype: float64"
      ]
     },
     "execution_count": 151,
     "metadata": {},
     "output_type": "execute_result"
    }
   ],
   "source": [
    "users.groupby('Region')['Proporção'].std()"
   ]
  },
  {
   "cell_type": "code",
   "execution_count": 158,
   "metadata": {},
   "outputs": [
    {
     "data": {
      "text/plain": [
       "Country or area        31\n",
       "Subregion              31\n",
       "Region                 31\n",
       "Internet users         31\n",
       "Population             31\n",
       "Nova Internet users    31\n",
       "Nova Population        31\n",
       "Percentage             31\n",
       "Proporção              31\n",
       "dtype: int64"
      ]
     },
     "execution_count": 158,
     "metadata": {},
     "output_type": "execute_result"
    }
   ],
   "source": [
    "users.loc[users['Proporção'] > 90].count()"
   ]
  },
  {
   "cell_type": "code",
   "execution_count": 159,
   "metadata": {},
   "outputs": [
    {
     "data": {
      "text/plain": [
       "Country or area        17\n",
       "Subregion              17\n",
       "Region                 17\n",
       "Internet users         17\n",
       "Population             17\n",
       "Nova Internet users    17\n",
       "Nova Population        17\n",
       "Percentage             17\n",
       "Proporção              17\n",
       "dtype: int64"
      ]
     },
     "execution_count": 159,
     "metadata": {},
     "output_type": "execute_result"
    }
   ],
   "source": [
    "users.loc[(users['Proporção'] > 90) & (users['Nova Population']>5000000)].count()"
   ]
  },
  {
   "cell_type": "code",
   "execution_count": 160,
   "metadata": {},
   "outputs": [
    {
     "data": {
      "text/html": [
       "<div>\n",
       "<style scoped>\n",
       "    .dataframe tbody tr th:only-of-type {\n",
       "        vertical-align: middle;\n",
       "    }\n",
       "\n",
       "    .dataframe tbody tr th {\n",
       "        vertical-align: top;\n",
       "    }\n",
       "\n",
       "    .dataframe thead th {\n",
       "        text-align: right;\n",
       "    }\n",
       "</style>\n",
       "<table border=\"1\" class=\"dataframe\">\n",
       "  <thead>\n",
       "    <tr style=\"text-align: right;\">\n",
       "      <th></th>\n",
       "      <th>Country or area</th>\n",
       "      <th>Subregion</th>\n",
       "      <th>Region</th>\n",
       "      <th>Internet users</th>\n",
       "      <th>Population</th>\n",
       "      <th>Nova Internet users</th>\n",
       "      <th>Nova Population</th>\n",
       "      <th>Percentage</th>\n",
       "      <th>Proporção</th>\n",
       "    </tr>\n",
       "  </thead>\n",
       "  <tbody>\n",
       "    <tr>\n",
       "      <th>185</th>\n",
       "      <td>Eritrea</td>\n",
       "      <td>Eastern Africa</td>\n",
       "      <td>Africa</td>\n",
       "      <td>66,402</td>\n",
       "      <td>3,452,786</td>\n",
       "      <td>66402</td>\n",
       "      <td>3452786</td>\n",
       "      <td>1.92%</td>\n",
       "      <td>1.92</td>\n",
       "    </tr>\n",
       "    <tr>\n",
       "      <th>183</th>\n",
       "      <td>Comoros</td>\n",
       "      <td>Eastern Africa</td>\n",
       "      <td>Africa</td>\n",
       "      <td>69,020</td>\n",
       "      <td>832,322</td>\n",
       "      <td>69020</td>\n",
       "      <td>832322</td>\n",
       "      <td>8.29%</td>\n",
       "      <td>8.29</td>\n",
       "    </tr>\n",
       "    <tr>\n",
       "      <th>179</th>\n",
       "      <td>Guinea-Bissau</td>\n",
       "      <td>Western Africa</td>\n",
       "      <td>Africa</td>\n",
       "      <td>73,148</td>\n",
       "      <td>1,874,303</td>\n",
       "      <td>73148</td>\n",
       "      <td>1874303</td>\n",
       "      <td>3.9%</td>\n",
       "      <td>3.90</td>\n",
       "    </tr>\n",
       "    <tr>\n",
       "      <th>172</th>\n",
       "      <td>Central African Republic</td>\n",
       "      <td>Middle Africa</td>\n",
       "      <td>Africa</td>\n",
       "      <td>202,204</td>\n",
       "      <td>4,666,368</td>\n",
       "      <td>202204</td>\n",
       "      <td>4666368</td>\n",
       "      <td>4.33%</td>\n",
       "      <td>4.33</td>\n",
       "    </tr>\n",
       "    <tr>\n",
       "      <th>165</th>\n",
       "      <td>Somalia</td>\n",
       "      <td>Eastern Africa</td>\n",
       "      <td>Africa</td>\n",
       "      <td>294,851</td>\n",
       "      <td>15,008,226</td>\n",
       "      <td>294851</td>\n",
       "      <td>15008226</td>\n",
       "      <td>1.96%</td>\n",
       "      <td>1.96</td>\n",
       "    </tr>\n",
       "    <tr>\n",
       "      <th>158</th>\n",
       "      <td>Liberia</td>\n",
       "      <td>Western Africa</td>\n",
       "      <td>Africa</td>\n",
       "      <td>377,607</td>\n",
       "      <td>4,818,973</td>\n",
       "      <td>377607</td>\n",
       "      <td>4818973</td>\n",
       "      <td>7.84%</td>\n",
       "      <td>7.84</td>\n",
       "    </tr>\n",
       "    <tr>\n",
       "      <th>151</th>\n",
       "      <td>Congo</td>\n",
       "      <td>Middle Africa</td>\n",
       "      <td>Africa</td>\n",
       "      <td>455,055</td>\n",
       "      <td>5,244,359</td>\n",
       "      <td>455055</td>\n",
       "      <td>5244359</td>\n",
       "      <td>8.68%</td>\n",
       "      <td>8.68</td>\n",
       "    </tr>\n",
       "    <tr>\n",
       "      <th>147</th>\n",
       "      <td>Burundi</td>\n",
       "      <td>Eastern Africa</td>\n",
       "      <td>Africa</td>\n",
       "      <td>607,311</td>\n",
       "      <td>11,175,374</td>\n",
       "      <td>607311</td>\n",
       "      <td>11175374</td>\n",
       "      <td>5.43%</td>\n",
       "      <td>5.43</td>\n",
       "    </tr>\n",
       "    <tr>\n",
       "      <th>137</th>\n",
       "      <td>Chad</td>\n",
       "      <td>Middle Africa</td>\n",
       "      <td>Africa</td>\n",
       "      <td>968,500</td>\n",
       "      <td>15,477,729</td>\n",
       "      <td>968500</td>\n",
       "      <td>15477729</td>\n",
       "      <td>6.26%</td>\n",
       "      <td>6.26</td>\n",
       "    </tr>\n",
       "    <tr>\n",
       "      <th>135</th>\n",
       "      <td>South Sudan</td>\n",
       "      <td>Eastern Africa</td>\n",
       "      <td>Africa</td>\n",
       "      <td>1,003,542</td>\n",
       "      <td>10,975,927</td>\n",
       "      <td>1003542</td>\n",
       "      <td>10975927</td>\n",
       "      <td>9.14%</td>\n",
       "      <td>9.14</td>\n",
       "    </tr>\n",
       "    <tr>\n",
       "      <th>115</th>\n",
       "      <td>Niger</td>\n",
       "      <td>Western Africa</td>\n",
       "      <td>Africa</td>\n",
       "      <td>2,194,985</td>\n",
       "      <td>22,442,831</td>\n",
       "      <td>2194985</td>\n",
       "      <td>22442831</td>\n",
       "      <td>9.78%</td>\n",
       "      <td>9.78</td>\n",
       "    </tr>\n",
       "    <tr>\n",
       "      <th>107</th>\n",
       "      <td>Madagascar</td>\n",
       "      <td>Eastern Africa</td>\n",
       "      <td>Africa</td>\n",
       "      <td>2,505,948</td>\n",
       "      <td>26,262,313</td>\n",
       "      <td>2505948</td>\n",
       "      <td>26262313</td>\n",
       "      <td>9.54%</td>\n",
       "      <td>9.54</td>\n",
       "    </tr>\n",
       "    <tr>\n",
       "      <th>65</th>\n",
       "      <td>Democratic Republic of the Congo</td>\n",
       "      <td>Middle Africa</td>\n",
       "      <td>Africa</td>\n",
       "      <td>7,011,507</td>\n",
       "      <td>84,068,091</td>\n",
       "      <td>7011507</td>\n",
       "      <td>84068091</td>\n",
       "      <td>8.34%</td>\n",
       "      <td>8.34</td>\n",
       "    </tr>\n",
       "  </tbody>\n",
       "</table>\n",
       "</div>"
      ],
      "text/plain": [
       "                      Country or area       Subregion  Region Internet users  \\\n",
       "185                           Eritrea  Eastern Africa  Africa         66,402   \n",
       "183                           Comoros  Eastern Africa  Africa         69,020   \n",
       "179                     Guinea-Bissau  Western Africa  Africa         73,148   \n",
       "172          Central African Republic   Middle Africa  Africa        202,204   \n",
       "165                           Somalia  Eastern Africa  Africa        294,851   \n",
       "158                           Liberia  Western Africa  Africa        377,607   \n",
       "151                             Congo   Middle Africa  Africa        455,055   \n",
       "147                           Burundi  Eastern Africa  Africa        607,311   \n",
       "137                              Chad   Middle Africa  Africa        968,500   \n",
       "135                       South Sudan  Eastern Africa  Africa      1,003,542   \n",
       "115                             Niger  Western Africa  Africa      2,194,985   \n",
       "107                        Madagascar  Eastern Africa  Africa      2,505,948   \n",
       "65   Democratic Republic of the Congo   Middle Africa  Africa      7,011,507   \n",
       "\n",
       "     Population  Nova Internet users  Nova Population Percentage  Proporção  \n",
       "185   3,452,786                66402          3452786      1.92%       1.92  \n",
       "183     832,322                69020           832322      8.29%       8.29  \n",
       "179   1,874,303                73148          1874303       3.9%       3.90  \n",
       "172   4,666,368               202204          4666368      4.33%       4.33  \n",
       "165  15,008,226               294851         15008226      1.96%       1.96  \n",
       "158   4,818,973               377607          4818973      7.84%       7.84  \n",
       "151   5,244,359               455055          5244359      8.68%       8.68  \n",
       "147  11,175,374               607311         11175374      5.43%       5.43  \n",
       "137  15,477,729               968500         15477729      6.26%       6.26  \n",
       "135  10,975,927              1003542         10975927      9.14%       9.14  \n",
       "115  22,442,831              2194985         22442831      9.78%       9.78  \n",
       "107  26,262,313              2505948         26262313      9.54%       9.54  \n",
       "65   84,068,091              7011507         84068091      8.34%       8.34  "
      ]
     },
     "execution_count": 160,
     "metadata": {},
     "output_type": "execute_result"
    }
   ],
   "source": [
    "users.loc[users['Proporção'] < 10]"
   ]
  }
 ],
 "metadata": {
  "kernelspec": {
   "display_name": "Python 3.10.4 64-bit",
   "language": "python",
   "name": "python3"
  },
  "language_info": {
   "codemirror_mode": {
    "name": "ipython",
    "version": 3
   },
   "file_extension": ".py",
   "mimetype": "text/x-python",
   "name": "python",
   "nbconvert_exporter": "python",
   "pygments_lexer": "ipython3",
   "version": "3.10.4"
  },
  "orig_nbformat": 4,
  "vscode": {
   "interpreter": {
    "hash": "801d301fae0df840eac9d9f1cd683a78b6455ed4c35c14fe1c0f31848cb97ce3"
   }
  }
 },
 "nbformat": 4,
 "nbformat_minor": 2
}
