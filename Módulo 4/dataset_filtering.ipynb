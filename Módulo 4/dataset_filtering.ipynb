{
 "cells": [
  {
   "cell_type": "code",
   "execution_count": 1,
   "metadata": {},
   "outputs": [],
   "source": [
    "import zipfile\n",
    "import pandas as pd\n",
    "import numpy as np"
   ]
  },
  {
   "cell_type": "code",
   "execution_count": 5,
   "metadata": {},
   "outputs": [],
   "source": [
    "df = pd.read_csv('enem2020\\DADOS\\MICRODADOS_ENEM_2020.csv',\n",
    "                    sep = ';', decimal = ',',\n",
    "                    encoding='iso-8859-1')"
   ]
  },
  {
   "cell_type": "code",
   "execution_count": 11,
   "metadata": {},
   "outputs": [],
   "source": [
    "#Converter nota para Float\n",
    "df.NU_NOTA_CN = df.NU_NOTA_CN.astype(float)\n",
    "df.NU_NOTA_CH = df.NU_NOTA_CH.astype(float)\n",
    "df.NU_NOTA_LC = df.NU_NOTA_LC.astype(float)\n",
    "df.NU_NOTA_MT = df.NU_NOTA_MT.astype(float)"
   ]
  },
  {
   "cell_type": "code",
   "execution_count": 15,
   "metadata": {},
   "outputs": [
    {
     "data": {
      "text/plain": [
       "count    46999.000000\n",
       "mean       579.681223\n",
       "std        124.704787\n",
       "min          0.000000\n",
       "25%        482.300000\n",
       "50%        583.000000\n",
       "75%        666.400000\n",
       "max        975.000000\n",
       "Name: NU_NOTA_MT, dtype: float64"
      ]
     },
     "execution_count": 15,
     "metadata": {},
     "output_type": "execute_result"
    }
   ],
   "source": [
    "# 1) Qual é a média da nota em matemática dos alunos que estudaram numa escola em Minas Gerais?\n",
    "df.loc[\n",
    "    df.SG_UF_ESC =='MG'\n",
    "    ].NU_NOTA_MT.describe()"
   ]
  },
  {
   "cell_type": "code",
   "execution_count": 16,
   "metadata": {},
   "outputs": [
    {
     "data": {
      "text/plain": [
       "count    48575.000000\n",
       "mean       553.010291\n",
       "std         69.287383\n",
       "min          0.000000\n",
       "25%        513.700000\n",
       "50%        560.300000\n",
       "75%        601.200000\n",
       "max        759.600000\n",
       "Name: NU_NOTA_LC, dtype: float64"
      ]
     },
     "execution_count": 16,
     "metadata": {},
     "output_type": "execute_result"
    }
   ],
   "source": [
    "# 2) Qual é a média da nota em Linguagens e \n",
    "# Códigos dos alunos que estudaram numa escola em Minas Gerais?\n",
    "df.loc[\n",
    "    df.SG_UF_ESC =='MG'\n",
    "    ].NU_NOTA_LC.describe()"
   ]
  },
  {
   "cell_type": "code",
   "execution_count": 17,
   "metadata": {},
   "outputs": [
    {
     "data": {
      "text/plain": [
       "count    27313.000000\n",
       "mean       541.308461\n",
       "std         95.129390\n",
       "min          0.000000\n",
       "25%        470.900000\n",
       "50%        546.700000\n",
       "75%        613.500000\n",
       "max        862.600000\n",
       "Name: NU_NOTA_CH, dtype: float64"
      ]
     },
     "execution_count": 17,
     "metadata": {},
     "output_type": "execute_result"
    }
   ],
   "source": [
    "# 3) Qual é a média da nota em Ciências Humanas dos alunos do sexo FEMININO \n",
    "# que estudaram numa escola em Minas Gerais?\n",
    "\n",
    "df.loc[\n",
    "    (df.SG_UF_ESC =='MG') & (df.TP_SEXO =='F')\n",
    "    ].NU_NOTA_CH.describe()"
   ]
  },
  {
   "cell_type": "code",
   "execution_count": 18,
   "metadata": {},
   "outputs": [
    {
     "data": {
      "text/plain": [
       "count    21262.000000\n",
       "mean       559.554684\n",
       "std         94.888096\n",
       "min          0.000000\n",
       "25%        498.000000\n",
       "50%        569.300000\n",
       "75%        627.800000\n",
       "max        844.000000\n",
       "Name: NU_NOTA_CH, dtype: float64"
      ]
     },
     "execution_count": 18,
     "metadata": {},
     "output_type": "execute_result"
    }
   ],
   "source": [
    "# 4) Qual é a média da nota em Ciências Humanas dos alunos do sexo MASCULINO\n",
    "# que estudaram numa escola em Minas Gerais?\n",
    "\n",
    "df.loc[\n",
    "    (df.SG_UF_ESC =='MG') & (df.TP_SEXO =='M')\n",
    "    ].NU_NOTA_CH.describe()"
   ]
  },
  {
   "cell_type": "code",
   "execution_count": 19,
   "metadata": {},
   "outputs": [
    {
     "data": {
      "text/plain": [
       "count    842.000000\n",
       "mean     562.988836\n",
       "std      119.993797\n",
       "min      329.200000\n",
       "25%      470.175000\n",
       "50%      568.500000\n",
       "75%      647.400000\n",
       "max      922.200000\n",
       "Name: NU_NOTA_MT, dtype: float64"
      ]
     },
     "execution_count": 19,
     "metadata": {},
     "output_type": "execute_result"
    }
   ],
   "source": [
    "# 5) Qual é a média da nota em Matemática dos alunos do sexo FEMININO \n",
    "# que estudaram numa escola na cidade de Montes Claros?\n",
    "df.loc[\n",
    "    (df.NO_MUNICIPIO_ESC =='Montes Claros') & (df.TP_SEXO =='F')\n",
    "    ].NU_NOTA_MT.describe()"
   ]
  },
  {
   "cell_type": "code",
   "execution_count": 20,
   "metadata": {},
   "outputs": [
    {
     "data": {
      "text/plain": [
       "count     67.000000\n",
       "mean     580.102985\n",
       "std      121.578984\n",
       "min      360.900000\n",
       "25%      491.800000\n",
       "50%      597.300000\n",
       "75%      672.100000\n",
       "max      803.900000\n",
       "Name: NU_NOTA_MT, dtype: float64"
      ]
     },
     "execution_count": 20,
     "metadata": {},
     "output_type": "execute_result"
    }
   ],
   "source": [
    "# 6) Qual é a média da nota em Matemática dos alunos que estudaram numa escola no município de Sabará \n",
    "# e que possuem TV por assinatura na residência?\n",
    "df.loc[\n",
    "    (df.NO_MUNICIPIO_ESC =='Sabará') & (df.Q021 =='B')\n",
    "    ].NU_NOTA_MT.describe()"
   ]
  },
  {
   "cell_type": "code",
   "execution_count": 21,
   "metadata": {},
   "outputs": [
    {
     "data": {
      "text/plain": [
       "count    396.000000\n",
       "mean     601.482576\n",
       "std       92.434640\n",
       "min      343.600000\n",
       "25%      554.150000\n",
       "50%      614.000000\n",
       "75%      669.200000\n",
       "max      794.000000\n",
       "Name: NU_NOTA_CH, dtype: float64"
      ]
     },
     "execution_count": 21,
     "metadata": {},
     "output_type": "execute_result"
    }
   ],
   "source": [
    "# 7) Qual é a média da nota em Ciências Humanas dos alunos \n",
    "# que estudaram numa escola em Minas Gerais e que possuem dois fornos micro-ondas em casa?\n",
    "df.loc[\n",
    "    (df.SG_UF_ESC =='MG') & (df.Q016 =='C')\n",
    "    ].NU_NOTA_CH.describe()"
   ]
  },
  {
   "cell_type": "code",
   "execution_count": 22,
   "metadata": {},
   "outputs": [
    {
     "data": {
      "text/plain": [
       "count    8483.000000\n",
       "mean      642.245184\n",
       "std       122.806820\n",
       "min       328.200000\n",
       "25%       561.050000\n",
       "50%       648.800000\n",
       "75%       726.550000\n",
       "max       975.000000\n",
       "Name: NU_NOTA_MT, dtype: float64"
      ]
     },
     "execution_count": 22,
     "metadata": {},
     "output_type": "execute_result"
    }
   ],
   "source": [
    "# 8) Qual é a nota média em Matemática dos alunos \n",
    "# que estudaram numa escola em Minas Gerais e cuja mãe completou a pós-graduação?\n",
    "df.loc[\n",
    "    (df.SG_UF_ESC =='MG') & (df.Q002 =='G')\n",
    "    ].NU_NOTA_MT.describe()"
   ]
  },
  {
   "cell_type": "code",
   "execution_count": 23,
   "metadata": {},
   "outputs": [
    {
     "data": {
      "text/plain": [
       "count    8732.000000\n",
       "mean      621.028252\n",
       "std       132.600884\n",
       "min         0.000000\n",
       "25%       523.975000\n",
       "50%       626.400000\n",
       "75%       713.300000\n",
       "max       975.000000\n",
       "Name: NU_NOTA_MT, dtype: float64"
      ]
     },
     "execution_count": 23,
     "metadata": {},
     "output_type": "execute_result"
    }
   ],
   "source": [
    "# 9) Qual é a nota média em Matemática dos alunos \n",
    "# que estudaram numa escola em Belo Horizonte ou em Conselheiro Lafaiete?\n",
    "df.loc[\n",
    "    (df.NO_MUNICIPIO_ESC =='Belo Horizonte') | (df.NO_MUNICIPIO_ESC =='Conselheiro Lafaiete')\n",
    "    ].NU_NOTA_MT.describe()"
   ]
  },
  {
   "cell_type": "code",
   "execution_count": 24,
   "metadata": {},
   "outputs": [
    {
     "data": {
      "text/plain": [
       "count    158.000000\n",
       "mean     537.054430\n",
       "std      116.166617\n",
       "min        0.000000\n",
       "25%      442.900000\n",
       "50%      541.700000\n",
       "75%      618.850000\n",
       "max      758.200000\n",
       "Name: NU_NOTA_CH, dtype: float64"
      ]
     },
     "execution_count": 24,
     "metadata": {},
     "output_type": "execute_result"
    }
   ],
   "source": [
    "# 10) Qual é a nota média em Ciências Humanas dos alunos\n",
    "# que estudaram numa escola em Minas Gerais e que moram sozinhos?\n",
    "df.loc[\n",
    "    (df.SG_UF_ESC =='MG') & (df.Q005 == 1)\n",
    "    ].NU_NOTA_CH.describe()"
   ]
  },
  {
   "cell_type": "code",
   "execution_count": 25,
   "metadata": {},
   "outputs": [
    {
     "data": {
      "text/plain": [
       "count    213.000000\n",
       "mean     623.942254\n",
       "std       86.300778\n",
       "min        0.000000\n",
       "25%      584.900000\n",
       "50%      637.700000\n",
       "75%      680.900000\n",
       "max      769.900000\n",
       "Name: NU_NOTA_CH, dtype: float64"
      ]
     },
     "execution_count": 25,
     "metadata": {},
     "output_type": "execute_result"
    }
   ],
   "source": [
    "# 11) Qual é a nota média em Ciências Humanas dos alunos que estudaram numa escola em Minas Gerais,\n",
    "# cujo pai completou pós-graduação e possuem renda familiar entre R$ 8.360,01 e R$ 9.405,00?\n",
    "df.loc[\n",
    "    (df.SG_UF_ESC =='MG') & (df.Q001 == 'G') & (df.Q006 == 'L')\n",
    "    ].NU_NOTA_CH.describe()"
   ]
  },
  {
   "cell_type": "code",
   "execution_count": 26,
   "metadata": {},
   "outputs": [
    {
     "data": {
      "text/plain": [
       "count     96.000000\n",
       "mean     513.383333\n",
       "std      105.603841\n",
       "min      341.400000\n",
       "25%      425.875000\n",
       "50%      505.600000\n",
       "75%      593.675000\n",
       "max      746.100000\n",
       "Name: NU_NOTA_MT, dtype: float64"
      ]
     },
     "execution_count": 26,
     "metadata": {},
     "output_type": "execute_result"
    }
   ],
   "source": [
    "# 12) Qual é a nota média em Matemática dos alunos do sexo Feminino\n",
    "# que estudaram numa escola em Lavras e escolheram “Espanhol” como língua estrangeira?\n",
    "df.loc[\n",
    "    (df.NO_MUNICIPIO_ESC =='Lavras') & (df.TP_SEXO =='F') & (df.TP_LINGUA == 1)\n",
    "    ].NU_NOTA_MT.describe()"
   ]
  },
  {
   "cell_type": "code",
   "execution_count": 27,
   "metadata": {},
   "outputs": [
    {
     "data": {
      "text/plain": [
       "count    136.000000\n",
       "mean     615.582353\n",
       "std       98.424854\n",
       "min      379.100000\n",
       "25%      543.175000\n",
       "50%      628.400000\n",
       "75%      686.100000\n",
       "max      821.000000\n",
       "Name: NU_NOTA_MT, dtype: float64"
      ]
     },
     "execution_count": 27,
     "metadata": {},
     "output_type": "execute_result"
    }
   ],
   "source": [
    "# 13) Qual é a nota média em Matemática dos alunos do sexo Masculino\n",
    "# que estudaram numa escola em Ouro Preto?\n",
    "df.loc[\n",
    "    (df.NO_MUNICIPIO_ESC =='Ouro Preto') & (df.TP_SEXO =='M')\n",
    "    ].NU_NOTA_MT.describe()"
   ]
  },
  {
   "cell_type": "code",
   "execution_count": 28,
   "metadata": {},
   "outputs": [
    {
     "data": {
      "text/plain": [
       "count     77.000000\n",
       "mean     473.477922\n",
       "std       71.733505\n",
       "min      344.900000\n",
       "25%      420.500000\n",
       "50%      466.700000\n",
       "75%      525.400000\n",
       "max      654.500000\n",
       "Name: NU_NOTA_CH, dtype: float64"
      ]
     },
     "execution_count": 28,
     "metadata": {},
     "output_type": "execute_result"
    }
   ],
   "source": [
    "# 14) Qual é a nota média em Ciências Humanas dos alunos\n",
    "# que estudaram numa escola em Minas Gerais e possuem entre 26 e 30 anos?\n",
    "df.loc[\n",
    "    (df.SG_UF_ESC =='MG') & (df.TP_FAIXA_ETARIA == 11)\n",
    "    ].NU_NOTA_CH.describe()"
   ]
  },
  {
   "cell_type": "code",
   "execution_count": 14,
   "metadata": {},
   "outputs": [
    {
     "data": {
      "text/plain": [
       "count    2084.000000\n",
       "mean      679.136948\n",
       "std       112.662700\n",
       "min       334.000000\n",
       "25%       605.800000\n",
       "50%       681.900000\n",
       "75%       758.925000\n",
       "max       975.000000\n",
       "Name: NU_NOTA_MT, dtype: float64"
      ]
     },
     "execution_count": 14,
     "metadata": {},
     "output_type": "execute_result"
    }
   ],
   "source": [
    "# 15) Qual é a nota média em Matemática dos alunos do sexo FEMININO,\n",
    "# que estudaram numa escola em Belo Horizonte, Sabará, Nova Lima ou Betim e estudaram em uma escola privada?\n",
    "df.loc[\n",
    "    (df.TP_SEXO =='F') & \n",
    "    ((df.NO_MUNICIPIO_ESC =='Belo Horizonte') | \n",
    "    (df.NO_MUNICIPIO_ESC =='Sabará') |\n",
    "    (df.NO_MUNICIPIO_ESC =='Nova Lima') |\n",
    "    (df.NO_MUNICIPIO_ESC =='Betim')) &\n",
    "    (df.TP_ESCOLA == 3)\n",
    "    ].NU_NOTA_MT.describe()"
   ]
  }
 ],
 "metadata": {
  "kernelspec": {
   "display_name": "Python 3.10.4 64-bit",
   "language": "python",
   "name": "python3"
  },
  "language_info": {
   "codemirror_mode": {
    "name": "ipython",
    "version": 3
   },
   "file_extension": ".py",
   "mimetype": "text/x-python",
   "name": "python",
   "nbconvert_exporter": "python",
   "pygments_lexer": "ipython3",
   "version": "3.10.4"
  },
  "orig_nbformat": 4,
  "vscode": {
   "interpreter": {
    "hash": "801d301fae0df840eac9d9f1cd683a78b6455ed4c35c14fe1c0f31848cb97ce3"
   }
  }
 },
 "nbformat": 4,
 "nbformat_minor": 2
}
